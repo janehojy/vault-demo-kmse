{
 "cells": [
  {
   "cell_type": "markdown",
   "metadata": {},
   "source": [
    "# HashiCorp Vault Demo for Key Management Secrets Engine \n",
    "\n",
    "The Key Management secrets engine provides a consistent workflow for distribution and lifecycle management of cryptographic keys in various key management service (KMS) providers. It allows organizations to maintain centralized control of their keys in Vault while still taking advantage of cryptographic capabilities native to the KMS providers.\n",
    "\n",
    "The secrets engine generates and owns original copies of key material. When an operator decides to distribute and manage the lifecycle of a key in one of the supported KMS providers, a copy of the key material is distributed. This provides additional durability and disaster recovery means for the complete lifecycle of the key in the KMS provider.\n",
    "\n",
    "Supported KMS Providers include:\n",
    "- Azure Key Vault\n",
    "- AWS KMS\n",
    "- GCP Cloud KMS\n",
    "\n",
    "Ref: https://developer.hashicorp.com/vault/docs/secrets/key-management#kms-providers \n",
    "\n",
    "Supported Key Types include:\n",
    "- aes256-gcm96 - AES-GCM with a 256-bit AES key and a 96-bit nonce (symmetric)\n",
    "- rsa-2048 - RSA with bit size of 2048 (asymmetric)\n",
    "- rsa-3072 - RSA with bit size of 3072 (asymmetric)\n",
    "- rsa-4096 - RSA with bit size of 4096 (asymmetric)\n",
    "- ecdsa-p256 - ECDSA using the P-256 elliptic curve (asymmetric)\n",
    "- ecdsa-p384 - ECDSA using the P-384 elliptic curve (asymmetric)\n",
    "- ecdsa-p521 - ECDSA using the P-521 elliptic curve (asymmetric)\n",
    "\n",
    "Ref: https://developer.hashicorp.com/vault/docs/secrets/key-management#key-types\n",
    "\n",
    "The following table defines which key types are compatible with each KMS provider.\n",
    "\n",
    "<img src=\"images/vault-demo-key-management-kms-keytypes.png\">\n",
    "\n",
    "Ref: https://developer.hashicorp.com/vault/docs/secrets/key-management#compatibility\n",
    "\n",
    "<img src=\"images/vault-demo-key-management-kms.png\">\n",
    "\n",
    "## Setup of the Demo\n",
    "\n",
    "This setup is tested on MacOS and is meant to simulate a distributed setup.  The components used in this demo are:\n",
    "- Vault Enterprise installed on docker (to simulate an external Vault)\n",
    "- You have the Vault CLI installed\n",
    "\n",
    "This assumes your Vault server is installed using docker and already running on http://127.0.0.1:8200\n",
    "and you have set your `VAULT_ADDR` and `VAULT_TOKEN` variables.\n",
    "\n",
    "Note: You will need Vault to be installed with an ADP-KM license add-on.\n",
    "\n",
    "## Requirements to Run This Demo\n",
    "You will need Visual Studio Code to be installed with the Jupyter plugin.  To run this notebook in VS Code, chose the Jupyter kernel and then Bash.\n",
    "- To run the current cell, use Ctrl + Enter.\n",
    "- To run the current cell and advance to the next, use Shift+Enter.\n"
   ]
  },
  {
   "cell_type": "markdown",
   "metadata": {},
   "source": [
    "# Setup Vault"
   ]
  },
  {
   "cell_type": "code",
   "execution_count": null,
   "metadata": {
    "vscode": {
     "languageId": "shellscript"
    }
   },
   "outputs": [],
   "source": [
    "# For this demo, we will be passing our doormat credentials as environment variables.\n",
    "# For non-doormat scenarios, use your configured IAM programmatic credentials in the secret sync configuration later on.\n",
    "export VAULT_PORT=8200\n",
    "export VAULT_ADDR=\"http://127.0.0.1:${VAULT_PORT}\"\n",
    "export VAULT_TOKEN=\"root\"\n",
    "\n",
    "# Change the path to your license file\n",
    "export VAULT_LICENSE=$(cat $HOME/Documents/demos/vault/vault.hclic)\n",
    "\n",
    "# Refresh Vault docker image with latest version\n",
    "docker pull hashicorp/vault-enterprise\n",
    "\n",
    "# Run Vault in docker in Dev mode with Enterprise license.\n",
    "# We have set VAULT_LOG_LEVEL to trace for troubleshooting purposes.  This will allow you to view detailed information as you test.\n",
    "docker run -d --rm --name vault-enterprise --cap-add=IPC_LOCK \\\n",
    "-e \"VAULT_DEV_ROOT_TOKEN_ID=${VAULT_TOKEN}\" \\\n",
    "-e \"VAULT_DEV_LISTEN_ADDRESS=:${VAULT_PORT}\" \\\n",
    "-e \"VAULT_LICENSE=${VAULT_LICENSE}\" \\\n",
    "-e \"VAULT_LOG_LEVEL=trace\" \\\n",
    "-p ${VAULT_PORT}:${VAULT_PORT} hashicorp/vault-enterprise:latest"
   ]
  },
  {
   "cell_type": "code",
   "execution_count": null,
   "metadata": {
    "vscode": {
     "languageId": "shellscript"
    }
   },
   "outputs": [],
   "source": [
    "# Verify that Vault is running\n",
    "docker ps"
   ]
  },
  {
   "cell_type": "markdown",
   "metadata": {},
   "source": [
    "# Key Management Secrets Engine for AWS KMS"
   ]
  },
  {
   "cell_type": "markdown",
   "metadata": {},
   "source": [
    "## Setup Vault KMSE for AWS KMS"
   ]
  },
  {
   "cell_type": "code",
   "execution_count": null,
   "metadata": {
    "vscode": {
     "languageId": "shellscript"
    }
   },
   "outputs": [],
   "source": [
    "# Enable the Key Management secrets engine\n",
    "vault secrets enable -path=kms-aws keymgmt"
   ]
  },
  {
   "cell_type": "code",
   "execution_count": null,
   "metadata": {
    "vscode": {
     "languageId": "shellscript"
    }
   },
   "outputs": [],
   "source": [
    "# For HashiCorp staff only.  Log in via doormat and populate your AWS credentials into your environment variables.\n",
    "doormat login -f && eval $(doormat aws export --role $(doormat aws list | grep -m 1 role))\n",
    "\n",
    "# Make sure the AWS_ACCESS_KEY_ID, AWS_SECRET_ACCESS_KEY, and AWS_SESSION_TOKEN environment variables are populated\n",
    "echo\n",
    "echo \"AWS_ACCESS_KEY_ID: ${AWS_ACCESS_KEY_ID}\"\n",
    "echo \"AWS_SECRET_ACCESS_KEY: ${AWS_SECRET_ACCESS_KEY}\"\n",
    "echo \"AWS_SESSION_TOKEN: ${AWS_SESSION_TOKEN}\"\n",
    "\n",
    "export AWS_REGION=ap-southeast-1"
   ]
  },
  {
   "cell_type": "code",
   "execution_count": null,
   "metadata": {
    "vscode": {
     "languageId": "shellscript"
    }
   },
   "outputs": [],
   "source": [
    "# Create KMS Provider \n",
    "\n",
    "# KMSE must be configured with credentials that have sufficient permissions to manage keys in an AWS KMS region. \n",
    "# The authentication parameters are described in the credentials section of the API documentation. \n",
    "# https://developer.hashicorp.com/vault/api-docs/secret/key-management/awskms#credentials\n",
    "# The authentication parameters will be set with the following order of precedence:\n",
    "# The minimum AWS KMS permissions for the IAM principal is listed here https://developer.hashicorp.com/vault/docs/secrets/key-management/awskms#authentication\n",
    "\n",
    "vault write kms-aws/kms/demo-aws \\\n",
    "    provider=\"awskms\" \\\n",
    "    key_collection=\"ap-southeast-1\" \\\n",
    "    credentials=access_key=\"ASIA...\" \\\n",
    "    credentials=secret_key=\"AbCdEf...\" \\\n",
    "    credentials=session_token=\"AbCdEf...\"\n",
    "\n"
   ]
  },
  {
   "cell_type": "code",
   "execution_count": null,
   "metadata": {
    "vscode": {
     "languageId": "shellscript"
    }
   },
   "outputs": [],
   "source": [
    "# Write keys\n",
    "\n",
    "# to do: set deletion_allowed as true\n",
    "\n",
    "vault write kms-aws/key/aes256-gcm96-1 type=\"aes256-gcm96\"\n",
    "vault write kms-aws/key/aes256-gcm96-2 type=\"aes256-gcm96\""
   ]
  },
  {
   "cell_type": "code",
   "execution_count": null,
   "metadata": {
    "vscode": {
     "languageId": "shellscript"
    }
   },
   "outputs": [],
   "source": [
    "# Read keys\n",
    "\n",
    "vault read -format=json kms-aws/key/aes256-gcm96-1 | jq\n",
    "vault read -format=json kms-aws/key/aes256-gcm96-2 | jq"
   ]
  },
  {
   "cell_type": "markdown",
   "metadata": {},
   "source": [
    "## Distribute keys to AWS KMS"
   ]
  },
  {
   "cell_type": "code",
   "execution_count": null,
   "metadata": {
    "vscode": {
     "languageId": "shellscript"
    }
   },
   "outputs": [],
   "source": [
    "# Distribute keys to AWS KMS\n",
    "\n",
    "vault write kms-aws/kms/demo-aws/key/aes256-gcm96-1 \\\n",
    "    purpose=\"encrypt,decrypt\" \\\n",
    "    protection=\"hsm\"\n",
    "\n",
    "vault write kms-aws/kms/demo-aws/key/aes256-gcm96-2 \\\n",
    "    purpose=\"encrypt,decrypt\" \\\n",
    "    protection=\"hsm\"\n"
   ]
  },
  {
   "cell_type": "code",
   "execution_count": null,
   "metadata": {
    "vscode": {
     "languageId": "shellscript"
    }
   },
   "outputs": [],
   "source": [
    "# Verify keys have been distributed to AWS KMS\n",
    "# You can also verify the keys have been distributed in the AWS Console\n",
    "# Verify the key version and permitted operations (such as 'sign' for 'ecdsa-p256')\n",
    "\n",
    "vault list kms-aws/kms/demo-aws/key/"
   ]
  },
  {
   "cell_type": "markdown",
   "metadata": {},
   "source": [
    "## Rotate keys"
   ]
  },
  {
   "cell_type": "code",
   "execution_count": null,
   "metadata": {
    "vscode": {
     "languageId": "shellscript"
    }
   },
   "outputs": [],
   "source": [
    "# Rotate the key in Vault\n",
    "\n",
    "vault write -f kms-aws/key/aes256-gcm96-1/rotate"
   ]
  },
  {
   "cell_type": "code",
   "execution_count": null,
   "metadata": {
    "vscode": {
     "languageId": "shellscript"
    }
   },
   "outputs": [],
   "source": [
    "# Confirm key rotation\n",
    "# You can also check in the AWS Console that the key has a different version\n",
    "\n",
    " vault read -format=json kms-aws/key/aes256-gcm96-1 | jq '.data.latest_version'"
   ]
  },
  {
   "cell_type": "markdown",
   "metadata": {},
   "source": [
    "# Key Management Secrets Engine for Azure Key Vault\n",
    "\n",
    "You must configure an Azure Key Vault instance and assign an access policy that provides the key management policy to a service principal. \n",
    "\n",
    "You then need to generate a credential that Vault will use to connect to and manage the Key Vault.\n",
    "\n",
    "[How to: Use the portal to create an Azure AD application and service principal that can access resources](https://learn.microsoft.com/en-us/entra/identity-platform/howto-create-service-principal-portal)\n",
    "\n",
    "[Assign a Key Vault access policy using the Azure portal](https://docs.microsoft.com/en-us/azure/key-vault/general/assign-access-policy-portal)\n",
    "\n",
    "Take note of the key vault name to use when you configure Vault later. eg. `learn-keyvault-52246b`\n",
    "\n",
    "<img src=\"images/vault-demo-key-management-kms-akv.png\">"
   ]
  },
  {
   "cell_type": "markdown",
   "metadata": {},
   "source": [
    "## Setup Vault KMSE for Azure Key Vault"
   ]
  },
  {
   "cell_type": "code",
   "execution_count": null,
   "metadata": {
    "vscode": {
     "languageId": "shellscript"
    }
   },
   "outputs": [],
   "source": [
    "# Enable the Key Management secrets engine\n",
    "vault secrets enable -path=kms-azure keymgmt"
   ]
  },
  {
   "cell_type": "markdown",
   "metadata": {},
   "source": [
    "You will need 4 pieces of information to configure the key vault instance\n",
    "\n",
    "1. A key collection, which corresponds to the name of the key vault instance in Azure. eg. `learn-keyvault-52246b`\n",
    "2. Azure client ID credential, that can also be specified with AZURE_CLIENT_ID environment variable.\n",
    "3. Azure client secret credential, that can also be specified with AZURE_CLIENT_SECRET environment variable.\n",
    "4. Azure tenant ID credential, that can also be specified with AZURE_TENANT_ID environment variable.\n"
   ]
  },
  {
   "cell_type": "code",
   "execution_count": null,
   "metadata": {
    "vscode": {
     "languageId": "shellscript"
    }
   },
   "outputs": [],
   "source": [
    "# Create KMS Provider \n",
    "\n",
    "vault write kms-azure/kms/demo-azure \\\n",
    "    key_collection=\"jane-demo\" \\\n",
    "    provider=\"azurekeyvault\" \n",
    "    credentials=client_id=\"AbCdEf...\" \\\n",
    "    credentials=client_secret=\"AbCdEf...\" \\\n",
    "    credentials=tenant_id=\"AbCdEf...\""
   ]
  },
  {
   "cell_type": "markdown",
   "metadata": {},
   "source": [
    "Based on the [Compatibility](https://developer.hashicorp.com/vault/docs/secrets/key-management#compatibility) section of the documentation, Azure Key Vault currently supports use of RSA-2048, RSA-3072, and RSA-4096 key types."
   ]
  },
  {
   "cell_type": "code",
   "execution_count": null,
   "metadata": {
    "vscode": {
     "languageId": "shellscript"
    }
   },
   "outputs": [],
   "source": [
    "# Write a pair of RSA-2048 and RSA-4096 keys\n",
    "\n",
    "vault write kms-azure/key/rsa-2048 type=\"rsa-2048\"\n",
    "vault write kms-azure/key/rsa-4096 type=\"rsa-4096\""
   ]
  },
  {
   "cell_type": "code",
   "execution_count": null,
   "metadata": {
    "vscode": {
     "languageId": "shellscript"
    }
   },
   "outputs": [],
   "source": [
    "# Read keys\n",
    "\n",
    "vault read -format=json kms-azure/key/rsa-2048 | jq\n",
    "vault read -format=json kms-azure/key/rsa-4096 | jq"
   ]
  },
  {
   "cell_type": "markdown",
   "metadata": {},
   "source": [
    "## Distribute Keys to Azure Key Vault"
   ]
  },
  {
   "cell_type": "code",
   "execution_count": null,
   "metadata": {
    "vscode": {
     "languageId": "shellscript"
    }
   },
   "outputs": [],
   "source": [
    "# Here you are instructing Vault to distribute the key and specify that its purpose is only to encrypt and decrypt. \n",
    "# The protection type is dependent on the cloud provider and the value is either hsm or software. \n",
    "# In the case of Azure, you specify hsm for the protection type. \n",
    "# The key will be securely delivered to the key vault instance according to the Azure Bring Your Own Key (BYOK) specification.\n",
    "# https://learn.microsoft.com/en-us/azure/key-vault/keys/byok-specification\n",
    "\n",
    "vault write kms-azure/kms/demo-azure/key/rsa-2048 \\\n",
    "    purpose=\"encrypt,decrypt\" \\\n",
    "    protection=\"hsm\"\n",
    "\n",
    "vault write kms-azure/kms/demo-azure/key/rsa-4096 \\\n",
    "    purpose=\"sign\" \\\n",
    "    protection=\"hsm\"\n"
   ]
  },
  {
   "cell_type": "code",
   "execution_count": null,
   "metadata": {
    "vscode": {
     "languageId": "shellscript"
    }
   },
   "outputs": [],
   "source": [
    "# Verify keys have been distributed to Azure Key Vault\n",
    "# You can also verify the keys have been distributed in the Azure Console\n",
    "# Verify the key version and permitted operations (such as 'sign' for 'rsa-4096')\n",
    "\n",
    "vault list kms-azure/kms/demo-azure/key/"
   ]
  },
  {
   "cell_type": "markdown",
   "metadata": {},
   "source": [
    "## Rotate keys"
   ]
  },
  {
   "cell_type": "code",
   "execution_count": null,
   "metadata": {
    "vscode": {
     "languageId": "shellscript"
    }
   },
   "outputs": [],
   "source": [
    "# Rotate the key in Vault\n",
    "\n",
    "vault write -f kms-azure/key/rsa-4096/rotate"
   ]
  },
  {
   "cell_type": "code",
   "execution_count": null,
   "metadata": {
    "vscode": {
     "languageId": "shellscript"
    }
   },
   "outputs": [],
   "source": [
    "# Confirm key rotation\n",
    "# You can also check in the Azure Console that the key has a different version\n",
    "\n",
    " vault read -format=json kms-azure/key/rsa-4096 | jq '.data.latest_version'"
   ]
  },
  {
   "cell_type": "markdown",
   "metadata": {},
   "source": [
    "# Key Management Secrets Engine for GCP KMS\n",
    "\n",
    "You must configure a Google Cloud project, enable billing for the project, and enable the required Cloud KMS API.\n",
    "\n",
    "You must then create a KMS keyring and note its resource name. The example used in this tutorial is projects/learn-kmse/locations/global/keyRings/learn-keyring.\n",
    "\n",
    "You must also create a service account, and assign it the proper roles in the project to manage Cloud KMS keys. The minimum roles required are as follows:\n",
    "\n",
    "- cloudkms.cryptoKeys.create\n",
    "- cloudkms.cryptoKeys.update\n",
    "- cloudkms.importJobs.create\n",
    "- cloudkms.importJobs.get\n",
    "- cloudkms.cryptoKeyVersions.list\n",
    "- cloudkms.cryptoKeyVersions.destroy\n",
    "- cloudkms.cryptoKeyVersions.update\n",
    "- cloudkms.cryptoKeyVersions.create\n",
    "\n",
    "You then need to generate a JSON based credential file for this service account that Vault will use to connect to and manage the Cloud KMS instance. You can also specify the credentials using the GOOGLE_CREDENTIALS environment variable or [application default credentials](https://cloud.google.com/docs/authentication/production). Consult the [Key Management Secrets Engine documentation](https://developer.hashicorp.com/vault/docs/secrets/key-management/gcpkms) for more details.\n",
    "\n",
    "<img src=\"images/vault-demo-key-management-kms-gcp.png\">"
   ]
  },
  {
   "cell_type": "markdown",
   "metadata": {},
   "source": [
    "## Setup Vault KMSE for GCP KMS"
   ]
  },
  {
   "cell_type": "code",
   "execution_count": null,
   "metadata": {
    "vscode": {
     "languageId": "shellscript"
    }
   },
   "outputs": [],
   "source": [
    "# Enable the Key Management secrets engine\n",
    "vault secrets enable -path=kms-gcp keymgmt"
   ]
  },
  {
   "cell_type": "markdown",
   "metadata": {},
   "source": [
    "You will need 3 pieces of information to configure the Cloud KMS instance\n",
    "\n",
    "1. A key collection, which refers to the [resource ID](https://cloud.google.com/kms/docs/resource-hierarchy#retrieve_resource_id) of an existing GCP Cloud KMS key ring; this value cannot be changed after creation.\n",
    "2. Credentials file to use for authentication with GCP Cloud KMS. Supplying values for this parameter is optional, as credentials may also be specified as the `GOOGLE_CREDENTIALS` environment variable or default application credentials.\n",
    "\n",
    "Set your google credentials before running this\n",
    "- Ref: https://cloud.google.com/iam/docs/service-accounts-create\n",
    "1) Enable IAM\n",
    "2) Create Service Account - IAM & Admin > Service Accounts.  Click \"CREATE SERVICE ACCOUNT\" and give a name.  Copy the email of the created service account.\n",
    "3) Click into service account, click on KEYS tab > ADD KEY > Create new key.  Select JSON for key type and click CREATE.\n",
    "4) Download the json file to this folder and rename to gcp-kms-sync-service-account-credential.json\n",
    "5) Give permissions to the service account - IAM & Admin > IAM.  Click on \"GRANT ACCESS\".  Paste the copied email for principals and assign the Secrets Manager Admin role.\n"
   ]
  },
  {
   "cell_type": "code",
   "execution_count": null,
   "metadata": {
    "vscode": {
     "languageId": "shellscript"
    }
   },
   "outputs": [],
   "source": [
    "# Before we set up the KMS secrets engine with gcpkms, we need to place the GCP Service Account credential file inside the docker container running Vault\n",
    "# According to the API documentation, \"The key file must be readable on the host that Vault server is running on.\"\n",
    "# https://developer.hashicorp.com/vault/api-docs/secret/key-management/gcpkms#service_account_file\n",
    "\n",
    "docker cp gcp-kms-service-account-credential.json vault-enterprise:/gcp-kms-service-account-credential.json"
   ]
  },
  {
   "cell_type": "code",
   "execution_count": null,
   "metadata": {
    "vscode": {
     "languageId": "shellscript"
    }
   },
   "outputs": [],
   "source": [
    "# Create KMS Provider\n",
    "\n",
    "vault write kms-gcp/kms/demo-gcp \\\n",
    "    provider=\"gcpckms\" \\\n",
    "    key_collection=\"projects/project-name/locations/global/keyRings/keyring-name\" \\\n",
    "    credentials=service_account_file=\"gcp-kms-service-account-credential.json\""
   ]
  },
  {
   "cell_type": "code",
   "execution_count": null,
   "metadata": {
    "vscode": {
     "languageId": "shellscript"
    }
   },
   "outputs": [],
   "source": [
    "# Write keys \n",
    "\n",
    "vault write kms-gcp/key/aes256-gcm96 type=\"aes256-gcm96\"\n",
    "vault write kms-gcp/key/ecdsa-p256 type=\"ecdsa-p256\""
   ]
  },
  {
   "cell_type": "code",
   "execution_count": null,
   "metadata": {
    "vscode": {
     "languageId": "shellscript"
    }
   },
   "outputs": [],
   "source": [
    "# Read keys\n",
    "\n",
    "vault read -format=json kms-gcp/key/aes256-gcm96 | jq\n",
    "vault read -format=json kms-gcp/key/ecdsa-p256 | jq"
   ]
  },
  {
   "cell_type": "markdown",
   "metadata": {},
   "source": [
    "## Distribute Keys to GCP KMS"
   ]
  },
  {
   "cell_type": "code",
   "execution_count": null,
   "metadata": {
    "vscode": {
     "languageId": "shellscript"
    }
   },
   "outputs": [],
   "source": [
    "# Here you are instructing Vault to distribute the key and specify that its purpose is only to encrypt and decrypt. \n",
    "# The protection type is dependent on the cloud provider and the value is either hsm or software. \n",
    "# In the case of GCP, you specify hsm for the protection type. \n",
    "\n",
    "vault write kms-gcp/kms/demo-gcp/key/aes256-gcm96 \\\n",
    "    purpose=\"encrypt,decrypt\" \\\n",
    "    protection=\"hsm\"\n",
    "\n",
    "\n",
    "vault write kms-gcp/kms/demo-gcp/key/ecdsa-p256 \\\n",
    "    purpose=\"sign\" \\\n",
    "    protection=\"hsm\"\n"
   ]
  },
  {
   "cell_type": "code",
   "execution_count": null,
   "metadata": {
    "vscode": {
     "languageId": "shellscript"
    }
   },
   "outputs": [],
   "source": [
    "# Verify keys have been distributed to GCP KMS\n",
    "# You can also verify the keys have been distributed in the GCP Console\n",
    "# Verify the key version and permitted operations (such as 'sign' for 'ecdsa-p256')\n",
    "\n",
    "vault list kms-gcp/kms/demo-gcp/key/"
   ]
  },
  {
   "cell_type": "markdown",
   "metadata": {},
   "source": [
    "## Rotate keys"
   ]
  },
  {
   "cell_type": "code",
   "execution_count": null,
   "metadata": {
    "vscode": {
     "languageId": "shellscript"
    }
   },
   "outputs": [],
   "source": [
    "# Rotate the key in Vault\n",
    "\n",
    "vault write -f kms-gcp/key/aes256-gcm96/rotate"
   ]
  },
  {
   "cell_type": "code",
   "execution_count": null,
   "metadata": {
    "vscode": {
     "languageId": "shellscript"
    }
   },
   "outputs": [],
   "source": [
    "# Confirm key rotation\n",
    "# You can also check in the GCP Console that the key has a different version\n",
    "\n",
    " vault read -format=json kms-gcp/key/aes256-gcm96 | jq '.data.latest_version'"
   ]
  },
  {
   "cell_type": "markdown",
   "metadata": {},
   "source": [
    "# Cleanup"
   ]
  },
  {
   "cell_type": "code",
   "execution_count": null,
   "metadata": {
    "vscode": {
     "languageId": "shellscript"
    }
   },
   "outputs": [],
   "source": [
    "# Cleanup AWS KMS\n",
    "\n",
    "vault delete kms-aws/kms/demo-aws/key/aes256-gcm96-1 \n",
    "vault delete kms-aws/kms/demo-aws/key/aes256-gcm96-2 "
   ]
  },
  {
   "cell_type": "code",
   "execution_count": null,
   "metadata": {
    "vscode": {
     "languageId": "shellscript"
    }
   },
   "outputs": [],
   "source": [
    "# Cleanup Azure Key Vault\n",
    "\n",
    "vault delete kms-azure/kms/demo-azure/key/rsa-2048\n",
    "vault delete kms-azure/kms/demo-azure/key/rsa-4096"
   ]
  },
  {
   "cell_type": "code",
   "execution_count": null,
   "metadata": {
    "vscode": {
     "languageId": "shellscript"
    }
   },
   "outputs": [],
   "source": [
    "# Cleanup GCP KMS\n",
    "\n",
    "vault delete kms-azure/kms/demo-azure/key/rsa-2048\n",
    "vault delete kms-azure/kms/demo-azure/key/rsa-4096"
   ]
  },
  {
   "cell_type": "code",
   "execution_count": null,
   "metadata": {
    "vscode": {
     "languageId": "shellscript"
    }
   },
   "outputs": [],
   "source": [
    "# Delete Vault\n",
    "\n",
    "docker stop vault-enterprise"
   ]
  },
  {
   "cell_type": "markdown",
   "metadata": {},
   "source": [
    "# "
   ]
  }
 ],
 "metadata": {
  "kernelspec": {
   "display_name": "Bash",
   "language": "bash",
   "name": "bash"
  },
  "language_info": {
   "codemirror_mode": "shell",
   "file_extension": ".sh",
   "mimetype": "text/x-sh",
   "name": "bash"
  }
 },
 "nbformat": 4,
 "nbformat_minor": 2
}
